{
 "cells": [
  {
   "cell_type": "code",
   "execution_count": null,
   "metadata": {},
   "outputs": [],
   "source": [
    "from HC_utils import load_preprocess_defects, hierarchical_clustering, get_keywords, save_results\n",
    "\n",
    "\n",
    "defects_file = \"./data/缺陷报告-标注.xlsx\"\n",
    "stopwords_file = \"./data/baidu_stopwords.txt\"\n",
    "output_file = \"./defect_reports\"\n",
    "with open(stopwords_file, 'r', encoding='utf-8') as f:\n",
    "        stopwords = set(f.read().splitlines())\n",
    "\n",
    "defect_reports = load_preprocess_defects(stopwords_file, defects_file)\n",
    "\n",
    "\n",
    "top_keywords, tfidf_matrix  =  get_keywords(defect_reports['processed_text'], stopwords, top_n=3)\n",
    "\n",
    "clusters = hierarchical_clustering(tfidf_matrix, n_clusters=None, distance_threshold = 2)\n",
    "defect_reports[\"hierarchical_cluster\"] = clusters\n",
    "\n",
    "\n",
    "\n",
    "\n",
    "\n",
    "save_results(defect_reports, output_file)\n",
    "\n",
    "\n"
   ]
  }
 ],
 "metadata": {
  "kernelspec": {
   "display_name": "bert38",
   "language": "python",
   "name": "python3"
  },
  "language_info": {
   "codemirror_mode": {
    "name": "ipython",
    "version": 3
   },
   "file_extension": ".py",
   "mimetype": "text/x-python",
   "name": "python",
   "nbconvert_exporter": "python",
   "pygments_lexer": "ipython3",
   "version": "3.8.0"
  }
 },
 "nbformat": 4,
 "nbformat_minor": 2
}
