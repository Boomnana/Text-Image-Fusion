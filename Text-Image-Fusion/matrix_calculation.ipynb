{
 "cells": [
  {
   "cell_type": "code",
   "execution_count": null,
   "metadata": {},
   "outputs": [],
   "source": [
    "from sklearn.metrics import adjusted_rand_score, adjusted_mutual_info_score, fowlkes_mallows_score\n",
    "import pandas as pd\n",
    "\n",
    "\n",
    "defects_file = './bert-HC结果.xlsx'\n",
    "df = pd.read_excel(defects_file)\n",
    "\n",
    "\n",
    "\n",
    "\n",
    "true_labels = df['标签']\n",
    "cluster_labels_LLM = df['bert_label']\n",
    "cluster_labels_hierarchical = df['HC_label']\n",
    "\n",
    "\n",
    "\n",
    "\n",
    "\n",
    "ari_hierarchical = adjusted_rand_score(true_labels, cluster_labels_hierarchical)\n",
    "ari_LLM = adjusted_rand_score(true_labels, cluster_labels_LLM)\n",
    "\n",
    "\n",
    "ami_hierarchical = adjusted_mutual_info_score(true_labels, cluster_labels_hierarchical)\n",
    "\n",
    "ami_LLM = adjusted_mutual_info_score(true_labels, cluster_labels_LLM)\n",
    "\n",
    "\n",
    "\n",
    "fmi_hierarchical = fowlkes_mallows_score(true_labels, cluster_labels_hierarchical)\n",
    "\n",
    "fmi_LLM = fowlkes_mallows_score(true_labels, cluster_labels_LLM)\n",
    "\n",
    "\n",
    "print(f\"ARI hierarchical: {ari_hierarchical}\")\n",
    "print(f\"ARI LLM: {ari_LLM}\")\n",
    "\n",
    "\n",
    "print(f\"AMI hierarchical: {ami_hierarchical}\")\n",
    "print(f\"AMI LLM: {ami_LLM}\")\n",
    "\n",
    "print(f\"FMI hierarchical: {fmi_hierarchical}\")\n",
    "print(f\"FMI LLM: {fmi_LLM}\")\n",
    "\n"
   ]
  }
 ],
 "metadata": {
  "kernelspec": {
   "display_name": "bert38",
   "language": "python",
   "name": "python3"
  },
  "language_info": {
   "codemirror_mode": {
    "name": "ipython",
    "version": 3
   },
   "file_extension": ".py",
   "mimetype": "text/x-python",
   "name": "python",
   "nbconvert_exporter": "python",
   "pygments_lexer": "ipython3",
   "version": "3.8.0"
  }
 },
 "nbformat": 4,
 "nbformat_minor": 2
}
